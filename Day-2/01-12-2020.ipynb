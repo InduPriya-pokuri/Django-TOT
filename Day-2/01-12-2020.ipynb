{
 "cells": [
  {
   "cell_type": "code",
   "execution_count": 9,
   "metadata": {},
   "outputs": [
    {
     "name": "stdout",
     "output_type": "stream",
     "text": [
      "This is add() from Class A\n",
      "This is mul() fromm Class B\n",
      "This is sub() from Class A\n",
      "This is add() from Class A\n"
     ]
    }
   ],
   "source": [
    "# Single Inheritance\n",
    "\n",
    "class A:\n",
    "    \n",
    "    def add():\n",
    "        print(\"This is add() from Class A\")\n",
    "    \n",
    "    def sub():\n",
    "        print(\"This is sub() from Class A\")\n",
    "        \n",
    "class B(A):\n",
    "    \n",
    "    def mul():\n",
    "        print(\"This is mul() fromm Class B\")\n",
    "    \n",
    "\n",
    "g = B\n",
    "g.add()\n",
    "g.mul()\n",
    "g.sub()\n",
    "\n",
    "j = A\n",
    "j.add()\n",
    "# j.mul()"
   ]
  },
  {
   "cell_type": "code",
   "execution_count": 16,
   "metadata": {},
   "outputs": [
    {
     "name": "stdout",
     "output_type": "stream",
     "text": [
      "This is exp() from Class C\n",
      "This is div() from Class B\n",
      "This is add() from Class A\n",
      "This is div() from Class B\n",
      "This is sub() from Class A\n",
      "This is add() from Class A\n"
     ]
    }
   ],
   "source": [
    "# Multi Level Inheritance\n",
    "\n",
    "class A:\n",
    "    \n",
    "    def add():\n",
    "        print(\"This is add() from Class A\")\n",
    "    \n",
    "    def sub():\n",
    "        print(\"This is sub() from Class A\")\n",
    "        \n",
    "class B(A):\n",
    "    \n",
    "    def mul():\n",
    "        print(\"This is mul() fromm Class B\")\n",
    "        \n",
    "    def div():\n",
    "        print(\"This is div() from Class B\")\n",
    "\n",
    "class C(B):\n",
    "    \n",
    "    def exp():\n",
    "        print(\"This is exp() from Class C\")\n",
    "        \n",
    "d = C\n",
    "d.exp()\n",
    "d.div()\n",
    "d.add()\n",
    "f = B\n",
    "f.div()\n",
    "f.sub()\n",
    "t = A\n",
    "t.add()"
   ]
  },
  {
   "cell_type": "code",
   "execution_count": 24,
   "metadata": {},
   "outputs": [
    {
     "name": "stdout",
     "output_type": "stream",
     "text": [
      "This is add() from Class A\n",
      "This is div() from Class B\n",
      "This is exp() from Class C\n",
      "This is add() from Class A\n",
      "This is div() from Class B\n"
     ]
    }
   ],
   "source": [
    "# Multiple Inheritance\n",
    "\n",
    "class A:\n",
    "    \n",
    "    def add():\n",
    "        print(\"This is add() from Class A\")\n",
    "    \n",
    "    def sub():\n",
    "        print(\"This is sub() from Class A\")\n",
    "        \n",
    "class B:\n",
    "    \n",
    "    def mul():\n",
    "        print(\"This is mul() fromm Class B\")\n",
    "        \n",
    "    def div():\n",
    "        print(\"This is div() from Class B\")\n",
    "\n",
    "class C(A,B):\n",
    "    \n",
    "    def exp():\n",
    "        print(\"This is exp() from Class C\")\n",
    "        \n",
    "t = C\n",
    "t.add()\n",
    "t.div()\n",
    "t.exp()\n",
    "r = A\n",
    "r.add()\n",
    "y = B\n",
    "y.div()"
   ]
  },
  {
   "cell_type": "code",
   "execution_count": 30,
   "metadata": {},
   "outputs": [
    {
     "name": "stdout",
     "output_type": "stream",
     "text": [
      "This is div() from Class B\n",
      "This is add() from Class A\n",
      "This is add() from Class A\n",
      "This is exp() from Class C\n"
     ]
    }
   ],
   "source": [
    "# Heirarachiel Inheritance\n",
    "\n",
    "class A:\n",
    "    \n",
    "    def add():\n",
    "        print(\"This is add() from Class A\")\n",
    "    \n",
    "    def sub():\n",
    "        print(\"This is sub() from Class A\")\n",
    "        \n",
    "class B(A):\n",
    "    \n",
    "    def mul():\n",
    "        print(\"This is mul() fromm Class B\")\n",
    "        \n",
    "    def div():\n",
    "        print(\"This is div() from Class B\")\n",
    "\n",
    "class C(A):\n",
    "    \n",
    "    def exp():\n",
    "        print(\"This is exp() from Class C\")\n",
    "        \n",
    "w = B\n",
    "w.div()\n",
    "w.add()\n",
    "\n",
    "q = C\n",
    "q.add()\n",
    "q.exp()"
   ]
  },
  {
   "cell_type": "code",
   "execution_count": null,
   "metadata": {},
   "outputs": [],
   "source": []
  }
 ],
 "metadata": {
  "kernelspec": {
   "display_name": "Python 3",
   "language": "python",
   "name": "python3"
  },
  "language_info": {
   "codemirror_mode": {
    "name": "ipython",
    "version": 3
   },
   "file_extension": ".py",
   "mimetype": "text/x-python",
   "name": "python",
   "nbconvert_exporter": "python",
   "pygments_lexer": "ipython3",
   "version": "3.7.3"
  }
 },
 "nbformat": 4,
 "nbformat_minor": 2
}
