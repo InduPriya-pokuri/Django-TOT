{
 "cells": [
  {
   "cell_type": "code",
   "execution_count": 1,
   "metadata": {},
   "outputs": [
    {
     "name": "stdout",
     "output_type": "stream",
     "text": [
      "<class 'int'>\n"
     ]
    }
   ],
   "source": [
    "a = 10\n",
    "print(type(a))"
   ]
  },
  {
   "cell_type": "code",
   "execution_count": 6,
   "metadata": {},
   "outputs": [
    {
     "name": "stdout",
     "output_type": "stream",
     "text": [
      "Raju\n",
      "My Personal Info Includes name and age\n"
     ]
    }
   ],
   "source": [
    "class Myinfo:\n",
    "    '''My Personal Info Includes name and age'''\n",
    "    name=\"Raju\"\n",
    "    age=23\n",
    "\n",
    "print(Myinfo.name)\n",
    "print(Myinfo.__doc__)"
   ]
  },
  {
   "cell_type": "code",
   "execution_count": 8,
   "metadata": {},
   "outputs": [
    {
     "name": "stdout",
     "output_type": "stream",
     "text": [
      "Raju 23\n",
      "My Personal Info Includes name and age\n",
      "This is from details()\n"
     ]
    }
   ],
   "source": [
    "class Myinfo:\n",
    "    '''My Personal Info Includes name and age'''\n",
    "    name=\"Raju\"\n",
    "    age=23\n",
    "    \n",
    "    def details():\n",
    "        print(\"This is from details()\")\n",
    "\n",
    "print(Myinfo.name,Myinfo.age)\n",
    "print(Myinfo.__doc__)\n",
    "Myinfo.details()"
   ]
  },
  {
   "cell_type": "code",
   "execution_count": 15,
   "metadata": {},
   "outputs": [
    {
     "name": "stdout",
     "output_type": "stream",
     "text": [
      "<class '__main__.Myinfo'>\n",
      "Raju 23\n",
      "My Personal Info Includes name and age\n",
      "This is from details()\n"
     ]
    }
   ],
   "source": [
    "class Myinfo:\n",
    "    '''My Personal Info Includes name and age'''\n",
    "    name=\"Raju\"\n",
    "    age=23\n",
    "    \n",
    "    def details():\n",
    "        print(\"This is from details()\")\n",
    "\n",
    "ob = Myinfo\n",
    "print(ob)\n",
    "print(ob.name,ob.age)\n",
    "print(ob.__doc__)\n",
    "ob.details()"
   ]
  },
  {
   "cell_type": "code",
   "execution_count": 22,
   "metadata": {},
   "outputs": [
    {
     "ename": "TypeError",
     "evalue": "profile() takes 2 positional arguments but 3 were given",
     "output_type": "error",
     "traceback": [
      "\u001b[1;31m---------------------------------------------------------------------------\u001b[0m",
      "\u001b[1;31mTypeError\u001b[0m                                 Traceback (most recent call last)",
      "\u001b[1;32m<ipython-input-22-bc9f99467c43>\u001b[0m in \u001b[0;36m<module>\u001b[1;34m\u001b[0m\n\u001b[0;32m      6\u001b[0m \u001b[1;33m\u001b[0m\u001b[0m\n\u001b[0;32m      7\u001b[0m \u001b[0mkl\u001b[0m \u001b[1;33m=\u001b[0m \u001b[0mMyinfo\u001b[0m\u001b[1;33m(\u001b[0m\u001b[1;33m)\u001b[0m\u001b[1;33m\u001b[0m\u001b[1;33m\u001b[0m\u001b[0m\n\u001b[1;32m----> 8\u001b[1;33m \u001b[0mprint\u001b[0m\u001b[1;33m(\u001b[0m\u001b[0mkl\u001b[0m\u001b[1;33m.\u001b[0m\u001b[0mprofile\u001b[0m\u001b[1;33m(\u001b[0m\u001b[1;34m\"Kiran\"\u001b[0m\u001b[1;33m,\u001b[0m\u001b[1;36m23\u001b[0m\u001b[1;33m)\u001b[0m\u001b[1;33m)\u001b[0m\u001b[1;33m\u001b[0m\u001b[1;33m\u001b[0m\u001b[0m\n\u001b[0m",
      "\u001b[1;31mTypeError\u001b[0m: profile() takes 2 positional arguments but 3 were given"
     ]
    }
   ],
   "source": [
    "class Myinfo():\n",
    "    '''My Personal Info Includes name and age'''\n",
    "    \n",
    "    def profile(name,age):\n",
    "        return name+\" \"+str(age)\n",
    "\n",
    "kl = Myinfo()\n",
    "print(kl.profile(\"Kiran\",23))"
   ]
  },
  {
   "cell_type": "code",
   "execution_count": 36,
   "metadata": {},
   "outputs": [
    {
     "name": "stdout",
     "output_type": "stream",
     "text": [
      "11\n",
      "-1\n"
     ]
    }
   ],
   "source": [
    "class Mymath():\n",
    "    \n",
    "    def __init__(self,n1,n2):\n",
    "        self.n = n1\n",
    "        self.m = n2\n",
    "    \n",
    "    def add(self):\n",
    "        return self.n+self.m\n",
    "    \n",
    "    def sub(self):\n",
    "        return self.n-self.m\n",
    "    \n",
    "od = Mymath(5,6)\n",
    "print(od.add())\n",
    "print(od.sub())"
   ]
  },
  {
   "cell_type": "markdown",
   "metadata": {},
   "source": [
    "### Packages and Modules by using OOP's:"
   ]
  },
  {
   "cell_type": "code",
   "execution_count": 1,
   "metadata": {},
   "outputs": [],
   "source": [
    "from Ownpak import sample"
   ]
  },
  {
   "cell_type": "code",
   "execution_count": 3,
   "metadata": {},
   "outputs": [
    {
     "name": "stdout",
     "output_type": "stream",
     "text": [
      "['__builtins__', '__cached__', '__doc__', '__file__', '__loader__', '__name__', '__package__', '__spec__', 'mul']\n"
     ]
    }
   ],
   "source": [
    "print(dir(sample))"
   ]
  },
  {
   "cell_type": "code",
   "execution_count": 4,
   "metadata": {},
   "outputs": [
    {
     "name": "stdout",
     "output_type": "stream",
     "text": [
      "To print the mulriplication of 2 numbers\n"
     ]
    }
   ],
   "source": [
    "print(sample.mul.__doc__)"
   ]
  },
  {
   "cell_type": "code",
   "execution_count": 6,
   "metadata": {},
   "outputs": [
    {
     "name": "stdout",
     "output_type": "stream",
     "text": [
      "24\n"
     ]
    }
   ],
   "source": [
    "print(sample.mul(4,6))"
   ]
  },
  {
   "cell_type": "code",
   "execution_count": 7,
   "metadata": {},
   "outputs": [],
   "source": [
    "from Ownpak.sample import mul"
   ]
  },
  {
   "cell_type": "code",
   "execution_count": 8,
   "metadata": {},
   "outputs": [
    {
     "name": "stdout",
     "output_type": "stream",
     "text": [
      "8\n"
     ]
    }
   ],
   "source": [
    "print(mul(4,2))"
   ]
  },
  {
   "cell_type": "code",
   "execution_count": 1,
   "metadata": {},
   "outputs": [],
   "source": [
    "from Ownpak.sampleoop import MyMath"
   ]
  },
  {
   "cell_type": "code",
   "execution_count": 2,
   "metadata": {},
   "outputs": [
    {
     "name": "stdout",
     "output_type": "stream",
     "text": [
      "10\n"
     ]
    }
   ],
   "source": [
    "rt = MyMath(4,6)\n",
    "print(rt.add())"
   ]
  },
  {
   "cell_type": "code",
   "execution_count": 3,
   "metadata": {},
   "outputs": [
    {
     "name": "stdout",
     "output_type": "stream",
     "text": [
      "['__class__', '__delattr__', '__dict__', '__dir__', '__doc__', '__eq__', '__format__', '__ge__', '__getattribute__', '__gt__', '__hash__', '__init__', '__init_subclass__', '__le__', '__lt__', '__module__', '__ne__', '__new__', '__reduce__', '__reduce_ex__', '__repr__', '__setattr__', '__sizeof__', '__str__', '__subclasshook__', '__weakref__', 'a', 'add', 'b', 'exp']\n"
     ]
    }
   ],
   "source": [
    "print(dir(rt))"
   ]
  },
  {
   "cell_type": "code",
   "execution_count": null,
   "metadata": {},
   "outputs": [],
   "source": []
  }
 ],
 "metadata": {
  "kernelspec": {
   "display_name": "Python 3",
   "language": "python",
   "name": "python3"
  },
  "language_info": {
   "codemirror_mode": {
    "name": "ipython",
    "version": 3
   },
   "file_extension": ".py",
   "mimetype": "text/x-python",
   "name": "python",
   "nbconvert_exporter": "python",
   "pygments_lexer": "ipython3",
   "version": "3.7.3"
  }
 },
 "nbformat": 4,
 "nbformat_minor": 2
}
